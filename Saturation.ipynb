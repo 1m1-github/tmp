{
 "cells": [
  {
   "cell_type": "markdown",
   "id": "8777851c",
   "metadata": {},
   "source": [
    "# structures and definitions"
   ]
  },
  {
   "cell_type": "code",
   "execution_count": 1,
   "id": "afebf989",
   "metadata": {},
   "outputs": [
    {
     "data": {
      "text/plain": [
       "0.75"
      ]
     },
     "execution_count": 1,
     "metadata": {},
     "output_type": "execute_result"
    }
   ],
   "source": [
    "# lets user simple arrays of length 6 to represent both borrow/deposit positions, as well as scalers\n",
    "\n",
    "# the following are the indices \n",
    "LB = 1\n",
    "XB = 2\n",
    "YB = 3\n",
    "LD = 4\n",
    "XD = 5\n",
    "YD = 6\n",
    "\n",
    "# our main dimension is r = sqrt of price. more specifically, we will main use rX = the sqrt of the price in X of Y\n",
    "\n",
    "pX = 4\n",
    "r = rX = √pX\n",
    "\n",
    "L̄ = LTVMAX = 0.75"
   ]
  },
  {
   "cell_type": "markdown",
   "id": "4bb057fb",
   "metadata": {},
   "source": [
    "# conversions"
   ]
  },
  {
   "cell_type": "code",
   "execution_count": 2,
   "id": "d52d038a",
   "metadata": {},
   "outputs": [
    {
     "data": {
      "text/plain": [
       "convertUnitsYToL (generic function with 1 method)"
      ]
     },
     "execution_count": 2,
     "metadata": {},
     "output_type": "execute_result"
    }
   ],
   "source": [
    "sharesToAssets(position, scalers) = position .* scalers\n",
    "convertUnitsXYToL(rX, position) = \n",
    "[\n",
    "    position[LB],\n",
    "    convertUnitsXToL(rX, position[XB]),\n",
    "    convertUnitsYToL(rX, position[YB]),\n",
    "    position[LD],\n",
    "    convertUnitsXToL(rX, position[XD]),\n",
    "    convertUnitsYToL(rX, position[YD]),\n",
    "]\n",
    "convertUnitsXToL(rX, x) = x / 2rX # == x / (2rX) != x / 2*rX == (x / 2)*rX see https://docs.julialang.org/en/v1/manual/integers-and-floating-point-numbers/#numeric-literals\n",
    "convertUnitsYToL(rX, y) = y * rX / 2"
   ]
  },
  {
   "cell_type": "markdown",
   "id": "63fc7692",
   "metadata": {},
   "source": [
    "# saturation functions"
   ]
  },
  {
   "cell_type": "code",
   "execution_count": 3,
   "id": "6995ad48",
   "metadata": {},
   "outputs": [
    {
     "data": {
      "text/plain": [
       "calcLTV (generic function with 1 method)"
      ]
     },
     "execution_count": 3,
     "metadata": {},
     "output_type": "execute_result"
    }
   ],
   "source": [
    "function calcNetBorrowXAndNetBorrowY(rX, positionInNativeShares, scalers)\n",
    "    # convert position to units of liquidity assets\n",
    "    positionInNativeAssets = sharesToAssets(positionInNativeShares, scalers)\n",
    "    positionInLAssets = convertUnitsXYToL(rX, positionInNativeAssets)\n",
    "    \n",
    "    borrowX = positionInLAssets[LB] / 2 + positionInLAssets[XB]\n",
    "    depositX = positionInLAssets[LD] / 2 + positionInLAssets[XD]\n",
    "    borrowY = positionInLAssets[LB] / 2 + positionInLAssets[YB]\n",
    "    depositY = positionInLAssets[LD] / 2 + positionInLAssets[YD]\n",
    "\n",
    "    netBorrowX = borrowX - depositX\n",
    "    netBorrowY = borrowY - depositY\n",
    "    \n",
    "    netBorrowX, netBorrowY\n",
    "end\n",
    "\n",
    "function calcLTV(rX, positionInNativeShares, scalers, L̄)\n",
    "    netBorrowX, netBorrowY = calcNetBorrowXAndNetBorrowY(rX, positionInNativeShares, scalers)\n",
    "    borrow = max(netBorrowX, netBorrowY)\n",
    "    \n",
    "    isNetX = netBorrowX == borrow\n",
    "\n",
    "    0 < netBorrowX && 0 < netBorrowY && return L̄, isNetX # all borrow => LTV = inf <=> LTV == L̄\n",
    "\n",
    "    netBorrowX <= 0 && netBorrowY <= 0 && return 0, isNetX # all deposit => LTV = 0\n",
    "\n",
    "    deposit = -min(netBorrowX, netBorrowY)\n",
    "\n",
    "    ltv = borrow / deposit\n",
    "\n",
    "    L̄ ≤ ltv && return L̄, isNetX\n",
    "    \n",
    "    ltv, isNetX\n",
    "end\n",
    "\n"
   ]
  },
  {
   "cell_type": "markdown",
   "id": "104521d6",
   "metadata": {},
   "source": [
    "# parabola"
   ]
  },
  {
   "cell_type": "code",
   "execution_count": 4,
   "id": "5bc18736",
   "metadata": {},
   "outputs": [
    {
     "data": {
      "text/plain": [
       "calcQuadraticSolutions (generic function with 1 method)"
      ]
     },
     "execution_count": 4,
     "metadata": {},
     "output_type": "execute_result"
    }
   ],
   "source": [
    "# from the condition LTV == L̄, we can derive a parabola with r as the variable:\n",
    "# a * rX^2 + b * rX + c == 0\n",
    "\n",
    "function calcNetBorrowAssetsLXY(positionInNativeShares, scalers)\n",
    "    # convert to native assets\n",
    "    positionInNativeAssets = sharesToAssets(positionInNativeShares, scalers)\n",
    "\n",
    "    L̂ = positionInNativeAssets[LB] - positionInNativeAssets[LD]\n",
    "    X̂ = positionInNativeAssets[XB] - positionInNativeAssets[XD]\n",
    "    Ŷ = positionInNativeAssets[YB] - positionInNativeAssets[YD]\n",
    "\n",
    "    L̂, X̂, Ŷ\n",
    "end\n",
    "\n",
    "function calcParabolaParamsAssumingNetX(rX, positionInNativeShares, scalers, L̄) # returns a, b, c\n",
    "    L̂, X̂, Ŷ = calcNetBorrowAssetsLXY(positionInNativeShares, scalers)\n",
    "    L̄ * Ŷ, (L̄ - 1) * L̂, -X̂\n",
    "end\n",
    "\n",
    "function calcParabolaParamsAssumingNetY(rX, positionInNativeShares, scalers, L̄) # returns a, b, c\n",
    "    L̂, X̂, Ŷ = calcNetBorrowAssetsLXY(positionInNativeShares, scalers)\n",
    "    Ŷ, (1 - L̄) * L̂, -L̄ * X̂\n",
    "end\n",
    "\n",
    "function calcQuadraticSolutions(a, b, c) # returns rXPlus, rXMinus\n",
    "    a == 0 && return -c / b, 0\n",
    "    c == 0 && return 0, -b / a\n",
    "    b == 0 && return √(-c/a), -√(-c/a)\n",
    "\n",
    "    radical = √(b^2 - 4*a*c)\n",
    "\n",
    "    (-b + radical) / 2a, (-b - radical) / 2a\n",
    "end"
   ]
  },
  {
   "cell_type": "markdown",
   "id": "b0ffc04c",
   "metadata": {},
   "source": [
    "# graphing"
   ]
  },
  {
   "cell_type": "code",
   "execution_count": 8,
   "id": "ce57952c",
   "metadata": {},
   "outputs": [
    {
     "data": {
      "text/plain": [
       "Plot{Makie.hlines, Tuple{Float64}}"
      ]
     },
     "execution_count": 8,
     "metadata": {},
     "output_type": "execute_result"
    }
   ],
   "source": [
    "using WGLMakie\n",
    "fig = Figure()\n",
    "\n",
    "r_range = 0.01:0.01:10\n",
    "lxy_range = 0:0.1:20\n",
    "startValues = zeros(6)\n",
    "\n",
    "# create sliders\n",
    "sl_lxy = SliderGrid(\n",
    "    fig[1, 1], \n",
    "    (label = \"LB\", range = lxy_range, format = \"{:.2f} [LS]\", startvalue = startValues[LB]),\n",
    "    (label = \"XB\", range = lxy_range, format = \"{:.2f} [XS]\", startvalue = startValues[XB]),\n",
    "    (label = \"YB\", range = lxy_range, format = \"{:.2f} [YS]\", startvalue = startValues[YB]),\n",
    "    (label = \"LD\", range = lxy_range, format = \"{:.2f} [LS]\", startvalue = startValues[LD]),\n",
    "    (label = \"XD\", range = lxy_range, format = \"{:.2f} [XS]\", startvalue = startValues[XD]),\n",
    "    (label = \"YD\", range = lxy_range, format = \"{:.2f} [YS]\", startvalue = startValues[YD]),\n",
    ")\n",
    "\n",
    "# create graph axis\n",
    "ax = Axis(fig[2, 1], limits = ((0, maximum(r_range)), (-1, 1)), xticks = 0:0.1:maximum(r_range), yticks = -1:0.25:1)\n",
    "\n",
    "# LTVMAX = 0.75\n",
    "hlines!(ax, L̄, color = :yellow)"
   ]
  }
 ],
 "metadata": {
  "kernelspec": {
   "display_name": "Julia 1.10.5",
   "language": "julia",
   "name": "julia-1.10"
  },
  "language_info": {
   "file_extension": ".jl",
   "mimetype": "application/julia",
   "name": "julia",
   "version": "1.10.5"
  }
 },
 "nbformat": 4,
 "nbformat_minor": 5
}
